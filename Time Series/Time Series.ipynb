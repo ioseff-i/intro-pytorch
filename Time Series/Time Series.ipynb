{
 "cells": [
  {
   "cell_type": "code",
   "execution_count": 1,
   "id": "e4030320",
   "metadata": {},
   "outputs": [],
   "source": [
    "import torch\n",
    "import torch.nn as nn\n",
    "\n",
    "import seaborn as sns\n",
    "import numpy as np\n",
    "import pandas as pd\n",
    "import matplotlib.pyplot as plt\n",
    "%matplotlib inline"
   ]
  },
  {
   "cell_type": "code",
   "execution_count": 2,
   "id": "ecaf6f4a",
   "metadata": {},
   "outputs": [
    {
     "name": "stderr",
     "output_type": "stream",
     "text": [
      "C:\\Users\\Joseph\\anaconda3\\envs\\pytorchenv\\lib\\site-packages\\seaborn\\utils.py:376: GuessedAtParserWarning: No parser was explicitly specified, so I'm using the best available HTML parser for this system (\"html.parser\"). This usually isn't a problem, but if you run this code on another system, or in a different virtual environment, it may use a different parser and behave differently.\n",
      "\n",
      "The code that caused this warning is on line 376 of the file C:\\Users\\Joseph\\anaconda3\\envs\\pytorchenv\\lib\\site-packages\\seaborn\\utils.py. To get rid of this warning, pass the additional argument 'features=\"html.parser\"' to the BeautifulSoup constructor.\n",
      "\n",
      "  gh_list = BeautifulSoup(http)\n"
     ]
    },
    {
     "data": {
      "text/plain": [
       "['anagrams',\n",
       " 'anscombe',\n",
       " 'attention',\n",
       " 'brain_networks',\n",
       " 'car_crashes',\n",
       " 'diamonds',\n",
       " 'dots',\n",
       " 'exercise',\n",
       " 'flights',\n",
       " 'fmri',\n",
       " 'gammas',\n",
       " 'geyser',\n",
       " 'iris',\n",
       " 'mpg',\n",
       " 'penguins',\n",
       " 'planets',\n",
       " 'tips',\n",
       " 'titanic']"
      ]
     },
     "execution_count": 2,
     "metadata": {},
     "output_type": "execute_result"
    }
   ],
   "source": [
    "sns.get_dataset_names()"
   ]
  },
  {
   "cell_type": "code",
   "execution_count": 3,
   "id": "e2914c06",
   "metadata": {},
   "outputs": [],
   "source": [
    "df = sns.load_dataset('flights')"
   ]
  },
  {
   "cell_type": "code",
   "execution_count": 4,
   "id": "6e241091",
   "metadata": {},
   "outputs": [
    {
     "data": {
      "text/html": [
       "<div>\n",
       "<style scoped>\n",
       "    .dataframe tbody tr th:only-of-type {\n",
       "        vertical-align: middle;\n",
       "    }\n",
       "\n",
       "    .dataframe tbody tr th {\n",
       "        vertical-align: top;\n",
       "    }\n",
       "\n",
       "    .dataframe thead th {\n",
       "        text-align: right;\n",
       "    }\n",
       "</style>\n",
       "<table border=\"1\" class=\"dataframe\">\n",
       "  <thead>\n",
       "    <tr style=\"text-align: right;\">\n",
       "      <th></th>\n",
       "      <th>year</th>\n",
       "      <th>month</th>\n",
       "      <th>passengers</th>\n",
       "    </tr>\n",
       "  </thead>\n",
       "  <tbody>\n",
       "    <tr>\n",
       "      <th>0</th>\n",
       "      <td>1949</td>\n",
       "      <td>January</td>\n",
       "      <td>112</td>\n",
       "    </tr>\n",
       "    <tr>\n",
       "      <th>1</th>\n",
       "      <td>1949</td>\n",
       "      <td>February</td>\n",
       "      <td>118</td>\n",
       "    </tr>\n",
       "    <tr>\n",
       "      <th>2</th>\n",
       "      <td>1949</td>\n",
       "      <td>March</td>\n",
       "      <td>132</td>\n",
       "    </tr>\n",
       "    <tr>\n",
       "      <th>3</th>\n",
       "      <td>1949</td>\n",
       "      <td>April</td>\n",
       "      <td>129</td>\n",
       "    </tr>\n",
       "    <tr>\n",
       "      <th>4</th>\n",
       "      <td>1949</td>\n",
       "      <td>May</td>\n",
       "      <td>121</td>\n",
       "    </tr>\n",
       "  </tbody>\n",
       "</table>\n",
       "</div>"
      ],
      "text/plain": [
       "   year     month  passengers\n",
       "0  1949   January         112\n",
       "1  1949  February         118\n",
       "2  1949     March         132\n",
       "3  1949     April         129\n",
       "4  1949       May         121"
      ]
     },
     "execution_count": 4,
     "metadata": {},
     "output_type": "execute_result"
    }
   ],
   "source": [
    "df.head()"
   ]
  },
  {
   "cell_type": "code",
   "execution_count": 9,
   "id": "b670d570",
   "metadata": {},
   "outputs": [
    {
     "data": {
      "text/plain": [
       "Text(0, 0.5, 'Number of passengers')"
      ]
     },
     "execution_count": 9,
     "metadata": {},
     "output_type": "execute_result"
    },
    {
     "data": {
      "image/png": "[encoded data removed]",
      "text/plain": [
       "<Figure size 1080x360 with 1 Axes>"
      ]
     },
     "metadata": {
      "needs_background": "light"
     },
     "output_type": "display_data"
    }
   ],
   "source": [
    "plt.figure(figsize=(15,5))\n",
    "plt.grid(True)\n",
    "plt.plot(df.passengers)\n",
    "plt.title('Monthly passengers')\n",
    "plt.xlabel('Months')\n",
    "plt.ylabel('Number of passengers')"
   ]
  },
  {
   "cell_type": "code",
   "execution_count": 10,
   "id": "f8c9dcd6",
   "metadata": {},
   "outputs": [],
   "source": [
    "all_data = df.passengers.values.astype(float)"
   ]
  },
  {
   "cell_type": "code",
   "execution_count": 12,
   "id": "af7719a5",
   "metadata": {},
   "outputs": [],
   "source": [
    "test_size = 15\n",
    "train_data = all_data[:-test_size]\n",
    "test_data = all_data[-test_size:]"
   ]
  },
  {
   "cell_type": "code",
   "execution_count": 17,
   "id": "42500ca0",
   "metadata": {},
   "outputs": [],
   "source": [
    "lst = list(range(len(all_data)))"
   ]
  },
  {
   "cell_type": "code",
   "execution_count": 18,
   "id": "688fd551",
   "metadata": {},
   "outputs": [
    {
     "data": {
      "text/plain": [
       "[0,\n",
       " 1,\n",
       " 2,\n",
       " 3,\n",
       " 4,\n",
       " 5,\n",
       " 6,\n",
       " 7,\n",
       " 8,\n",
       " 9,\n",
       " 10,\n",
       " 11,\n",
       " 12,\n",
       " 13,\n",
       " 14,\n",
       " 15,\n",
       " 16,\n",
       " 17,\n",
       " 18,\n",
       " 19,\n",
       " 20,\n",
       " 21,\n",
       " 22,\n",
       " 23,\n",
       " 24,\n",
       " 25,\n",
       " 26,\n",
       " 27,\n",
       " 28,\n",
       " 29,\n",
       " 30,\n",
       " 31,\n",
       " 32,\n",
       " 33,\n",
       " 34,\n",
       " 35,\n",
       " 36,\n",
       " 37,\n",
       " 38,\n",
       " 39,\n",
       " 40,\n",
       " 41,\n",
       " 42,\n",
       " 43,\n",
       " 44,\n",
       " 45,\n",
       " 46,\n",
       " 47,\n",
       " 48,\n",
       " 49,\n",
       " 50,\n",
       " 51,\n",
       " 52,\n",
       " 53,\n",
       " 54,\n",
       " 55,\n",
       " 56,\n",
       " 57,\n",
       " 58,\n",
       " 59,\n",
       " 60,\n",
       " 61,\n",
       " 62,\n",
       " 63,\n",
       " 64,\n",
       " 65,\n",
       " 66,\n",
       " 67,\n",
       " 68,\n",
       " 69,\n",
       " 70,\n",
       " 71,\n",
       " 72,\n",
       " 73,\n",
       " 74,\n",
       " 75,\n",
       " 76,\n",
       " 77,\n",
       " 78,\n",
       " 79,\n",
       " 80,\n",
       " 81,\n",
       " 82,\n",
       " 83,\n",
       " 84,\n",
       " 85,\n",
       " 86,\n",
       " 87,\n",
       " 88,\n",
       " 89,\n",
       " 90,\n",
       " 91,\n",
       " 92,\n",
       " 93,\n",
       " 94,\n",
       " 95,\n",
       " 96,\n",
       " 97,\n",
       " 98,\n",
       " 99,\n",
       " 100,\n",
       " 101,\n",
       " 102,\n",
       " 103,\n",
       " 104,\n",
       " 105,\n",
       " 106,\n",
       " 107,\n",
       " 108,\n",
       " 109,\n",
       " 110,\n",
       " 111,\n",
       " 112,\n",
       " 113,\n",
       " 114,\n",
       " 115,\n",
       " 116,\n",
       " 117,\n",
       " 118,\n",
       " 119,\n",
       " 120,\n",
       " 121,\n",
       " 122,\n",
       " 123,\n",
       " 124,\n",
       " 125,\n",
       " 126,\n",
       " 127,\n",
       " 128,\n",
       " 129,\n",
       " 130,\n",
       " 131,\n",
       " 132,\n",
       " 133,\n",
       " 134,\n",
       " 135,\n",
       " 136,\n",
       " 137,\n",
       " 138,\n",
       " 139,\n",
       " 140,\n",
       " 141,\n",
       " 142,\n",
       " 143]"
      ]
     },
     "execution_count": 18,
     "metadata": {},
     "output_type": "execute_result"
    }
   ],
   "source": [
    "lst"
   ]
  },
  {
   "cell_type": "code",
   "execution_count": 20,
   "id": "55a82b02",
   "metadata": {},
   "outputs": [
    {
     "data": {
      "text/plain": [
       "<matplotlib.legend.Legend at 0x20cede2b6a0>"
      ]
     },
     "execution_count": 20,
     "metadata": {},
     "output_type": "execute_result"
    },
    {
     "data": {
      "image/png": "[encoded data removed]",
      "text/plain": [
       "<Figure size 432x288 with 1 Axes>"
      ]
     },
     "metadata": {
      "needs_background": "light"
     },
     "output_type": "display_data"
    }
   ],
   "source": [
    "plt.plot(lst[:-test_size],train_data)\n",
    "plt.plot(lst[-test_size:],test_data)\n",
    "plt.legend(['Train','Test'])"
   ]
  },
  {
   "cell_type": "code",
   "execution_count": 22,
   "id": "1badbab8",
   "metadata": {},
   "outputs": [],
   "source": [
    "from sklearn.preprocessing import MinMaxScaler\n",
    "\n",
    "sc = MinMaxScaler(feature_range=(-1,1))\n",
    "tr_norm = sc.fit_transform(train_data.reshape(-1,1))"
   ]
  },
  {
   "cell_type": "code",
   "execution_count": 25,
   "id": "692bdd9e",
   "metadata": {},
   "outputs": [
    {
     "data": {
      "text/plain": [
       "<matplotlib.legend.Legend at 0x20cef176748>"
      ]
     },
     "execution_count": 25,
     "metadata": {},
     "output_type": "execute_result"
    },
    {
     "data": {
      "image/png": "[encoded data removed]",
      "text/plain": [
       "<Figure size 432x288 with 1 Axes>"
      ]
     },
     "metadata": {
      "needs_background": "light"
     },
     "output_type": "display_data"
    }
   ],
   "source": [
    "plt.plot(lst[:-test_size],tr_norm)\n",
    "plt.plot(lst[-test_size:],sc.fit_transform(test_data.reshape(-1,1)))\n",
    "plt.legend(['Train','Test'])"
   ]
  },
  {
   "cell_type": "code",
   "execution_count": 26,
   "id": "1db1d527",
   "metadata": {},
   "outputs": [],
   "source": [
    "tr_norm = torch.FloatTensor(tr_norm).view(-1)"
   ]
  },
  {
   "cell_type": "code",
   "execution_count": 28,
   "id": "621a1c9d",
   "metadata": {},
   "outputs": [
    {
     "data": {
      "text/plain": [
       "torch.Size([129])"
      ]
     },
     "execution_count": 28,
     "metadata": {},
     "output_type": "execute_result"
    }
   ],
   "source": [
    "tr_norm.shape"
   ]
  },
  {
   "cell_type": "code",
   "execution_count": 50,
   "id": "69ccbcdf",
   "metadata": {},
   "outputs": [],
   "source": [
    "def cr_input(input_data,win_size):\n",
    "    inp_seq = []\n",
    "    L = len(input_data)\n",
    "    for i in range(L-win_size):\n",
    "        tr_seq = input_data[i:i+win_size]\n",
    "        tr_label = input_data[i + win_size: i + win_size + 1]\n",
    "        inp_seq.append((tr_seq,tr_label))\n",
    "    return inp_seq"
   ]
  },
  {
   "cell_type": "code",
   "execution_count": 51,
   "id": "4b4317e8",
   "metadata": {},
   "outputs": [],
   "source": [
    "vals = np.arange(20)"
   ]
  },
  {
   "cell_type": "code",
   "execution_count": 53,
   "id": "12bdf72f",
   "metadata": {},
   "outputs": [],
   "source": [
    "tr_inp_seq = cr_input(tr_norm,10)"
   ]
  },
  {
   "cell_type": "code",
   "execution_count": 54,
   "id": "ae931c1d",
   "metadata": {},
   "outputs": [
    {
     "data": {
      "text/plain": [
       "(tensor([-0.9648, -0.9385, -0.8769, -0.8901, -0.9253, -0.8637, -0.8066, -0.8066,\n",
       "         -0.8593, -0.9341]),\n",
       " tensor([-1.]))"
      ]
     },
     "execution_count": 54,
     "metadata": {},
     "output_type": "execute_result"
    }
   ],
   "source": [
    "tr_inp_seq[0]"
   ]
  },
  {
   "cell_type": "code",
   "execution_count": 68,
   "id": "fd113853",
   "metadata": {},
   "outputs": [],
   "source": [
    "class NN(nn.Module):\n",
    "    def __init__(self,input_size=1,hidden_size=100,output_size=1):\n",
    "        super().__init__()\n",
    "        self.hidden_size = hidden_size\n",
    "        \n",
    "        # Add an LSTM layer:\n",
    "        self.lstm = nn.LSTM(input_size,hidden_size)\n",
    "        \n",
    "        # Add a fully-connected layer:\n",
    "        self.linear = nn.Linear(hidden_size,output_size)\n",
    "        \n",
    "        # Initialize h0 and c0:\n",
    "        self.hidden = (torch.zeros(1,1,self.hidden_size),\n",
    "                       torch.zeros(1,1,self.hidden_size))\n",
    "\n",
    "    def forward(self,seq):\n",
    "        lstm_out, self.hidden = self.lstm(\n",
    "            seq.view(len(seq),1,-1), self.hidden)\n",
    "        pred = self.linear(lstm_out.view(len(seq),-1))\n",
    "        return pred[-1]  # we only want the last value"
   ]
  },
  {
   "cell_type": "code",
   "execution_count": 69,
   "id": "2f5f6c98",
   "metadata": {},
   "outputs": [
    {
     "data": {
      "text/plain": [
       "NN(\n",
       "  (lstm): LSTM(1, 100)\n",
       "  (linear): Linear(in_features=100, out_features=1, bias=True)\n",
       ")"
      ]
     },
     "execution_count": 69,
     "metadata": {},
     "output_type": "execute_result"
    }
   ],
   "source": [
    "torch.manual_seed(101)\n",
    "model = NN()\n",
    "\n",
    "criterion = nn.MSELoss()\n",
    "optimizer = torch.optim.Adam(model.parameters(), lr=0.001)\n",
    "\n",
    "model"
   ]
  },
  {
   "cell_type": "code",
   "execution_count": 70,
   "id": "c36383e1",
   "metadata": {},
   "outputs": [
    {
     "name": "stdout",
     "output_type": "stream",
     "text": [
      "   400\n",
      " 40000\n",
      "   400\n",
      "   400\n",
      "   100\n",
      "     1\n",
      "______\n",
      " 41301\n"
     ]
    }
   ],
   "source": [
    "def count_parameters(model):\n",
    "    params = [p.numel() for p in model.parameters() if p.requires_grad]\n",
    "    for item in params:\n",
    "        print(f'{item:>6}')\n",
    "    print(f'______\\n{sum(params):>6}')\n",
    "    \n",
    "count_parameters(model)"
   ]
  },
  {
   "cell_type": "code",
   "execution_count": 72,
   "id": "d97b0c81",
   "metadata": {},
   "outputs": [
    {
     "name": "stdout",
     "output_type": "stream",
     "text": [
      "Epoch:  1 Loss: 0.07741217\n",
      "Epoch:  2 Loss: 0.04548943\n",
      "Epoch:  3 Loss: 0.01741708\n",
      "Epoch:  4 Loss: 0.00598553\n",
      "Epoch:  5 Loss: 0.00024990\n",
      "Epoch:  6 Loss: 0.00174813\n",
      "Epoch:  7 Loss: 0.00772054\n",
      "Epoch:  8 Loss: 0.01605056\n",
      "Epoch:  9 Loss: 0.02464294\n",
      "Epoch: 10 Loss: 0.03060759\n",
      "Epoch: 11 Loss: 0.03479150\n",
      "Epoch: 12 Loss: 0.03529513\n",
      "Epoch: 13 Loss: 0.03304023\n",
      "Epoch: 14 Loss: 0.02516231\n",
      "Epoch: 15 Loss: 0.01154908\n",
      "Epoch: 16 Loss: 0.00037976\n",
      "Epoch: 17 Loss: 0.01076630\n",
      "Epoch: 18 Loss: 0.00450326\n",
      "Epoch: 19 Loss: 0.00000002\n",
      "Epoch: 20 Loss: 0.00046196\n",
      "Epoch: 21 Loss: 0.00001332\n",
      "Epoch: 22 Loss: 0.00000211\n",
      "Epoch: 23 Loss: 0.00002655\n",
      "Epoch: 24 Loss: 0.00002386\n",
      "Epoch: 25 Loss: 0.00000863\n",
      "Epoch: 26 Loss: 0.00003117\n",
      "Epoch: 27 Loss: 0.00009265\n",
      "Epoch: 28 Loss: 0.00012375\n",
      "Epoch: 29 Loss: 0.00012834\n",
      "Epoch: 30 Loss: 0.00012737\n",
      "Epoch: 31 Loss: 0.00013601\n",
      "Epoch: 32 Loss: 0.00015966\n",
      "Epoch: 33 Loss: 0.00020041\n",
      "Epoch: 34 Loss: 0.00026163\n",
      "Epoch: 35 Loss: 0.00034572\n",
      "Epoch: 36 Loss: 0.00044665\n",
      "Epoch: 37 Loss: 0.00054274\n",
      "Epoch: 38 Loss: 0.00060022\n",
      "Epoch: 39 Loss: 0.00059283\n",
      "Epoch: 40 Loss: 0.00052425\n",
      "Epoch: 41 Loss: 0.00043188\n",
      "Epoch: 42 Loss: 0.00036599\n",
      "Epoch: 43 Loss: 0.00036005\n",
      "Epoch: 44 Loss: 0.00041237\n",
      "Epoch: 45 Loss: 0.00045747\n",
      "Epoch: 46 Loss: 0.00036163\n",
      "Epoch: 47 Loss: 0.00014526\n",
      "Epoch: 48 Loss: 0.00001193\n",
      "Epoch: 49 Loss: 0.00001047\n",
      "Epoch: 50 Loss: 0.00002922\n",
      "Epoch: 51 Loss: 0.00001264\n",
      "Epoch: 52 Loss: 0.00000290\n",
      "Epoch: 53 Loss: 0.00000171\n",
      "Epoch: 54 Loss: 0.00001087\n",
      "Epoch: 55 Loss: 0.00005669\n",
      "Epoch: 56 Loss: 0.00015750\n",
      "Epoch: 57 Loss: 0.00026099\n",
      "Epoch: 58 Loss: 0.00027967\n",
      "Epoch: 59 Loss: 0.00020740\n",
      "Epoch: 60 Loss: 0.00010330\n",
      "Epoch: 61 Loss: 0.00001987\n",
      "Epoch: 62 Loss: 0.00001159\n",
      "Epoch: 63 Loss: 0.00001849\n",
      "Epoch: 64 Loss: 0.00000004\n",
      "Epoch: 65 Loss: 0.00004108\n",
      "Epoch: 66 Loss: 0.00010478\n",
      "Epoch: 67 Loss: 0.00016623\n",
      "Epoch: 68 Loss: 0.00001328\n",
      "Epoch: 69 Loss: 0.00084859\n",
      "Epoch: 70 Loss: 0.00011901\n",
      "Epoch: 71 Loss: 0.00037812\n",
      "Epoch: 72 Loss: 0.00002767\n",
      "Epoch: 73 Loss: 0.00018573\n",
      "Epoch: 74 Loss: 0.00028105\n",
      "Epoch: 75 Loss: 0.00041431\n",
      "Epoch: 76 Loss: 0.00020095\n",
      "Epoch: 77 Loss: 0.00003581\n",
      "Epoch: 78 Loss: 0.00000104\n",
      "Epoch: 79 Loss: 0.00003182\n",
      "Epoch: 80 Loss: 0.00006932\n",
      "Epoch: 81 Loss: 0.00008712\n",
      "Epoch: 82 Loss: 0.00008858\n",
      "Epoch: 83 Loss: 0.00007618\n",
      "Epoch: 84 Loss: 0.00005359\n",
      "Epoch: 85 Loss: 0.00003605\n",
      "Epoch: 86 Loss: 0.00004077\n",
      "Epoch: 87 Loss: 0.00006512\n",
      "Epoch: 88 Loss: 0.00007000\n",
      "Epoch: 89 Loss: 0.00002681\n",
      "Epoch: 90 Loss: 0.00000002\n",
      "Epoch: 91 Loss: 0.00001602\n",
      "Epoch: 92 Loss: 0.00003540\n",
      "Epoch: 93 Loss: 0.00003242\n",
      "Epoch: 94 Loss: 0.00001945\n",
      "Epoch: 95 Loss: 0.00002091\n",
      "Epoch: 96 Loss: 0.00003820\n",
      "Epoch: 97 Loss: 0.00009321\n",
      "Epoch: 98 Loss: 0.00017354\n",
      "Epoch: 99 Loss: 0.00016424\n",
      "Epoch: 100 Loss: 0.00018084\n"
     ]
    }
   ],
   "source": [
    "epochs = 100\n",
    "for epoch in range(epochs):\n",
    "    \n",
    "    # extract the sequence & label from the training data\n",
    "    for seq, y_train in tr_inp_seq:\n",
    "        \n",
    "        # reset the parameters and hidden states\n",
    "        optimizer.zero_grad()\n",
    "        model.hidden = (torch.zeros(1,1,model.hidden_size),\n",
    "                        torch.zeros(1,1,model.hidden_size))\n",
    "        \n",
    "        y_pred = model(seq)\n",
    "        \n",
    "        loss = criterion(y_pred, y_train)\n",
    "        loss.backward()\n",
    "        optimizer.step()\n",
    "        \n",
    "    # print training result\n",
    "    print(f'Epoch: {epoch+1:2} Loss: {loss.item():10.8f}')\n",
    "    "
   ]
  },
  {
   "cell_type": "code",
   "execution_count": 77,
   "id": "e6f8635f",
   "metadata": {},
   "outputs": [],
   "source": [
    "future = 15\n",
    "win_size = 10\n",
    "preds = tr_norm[-win_size:].tolist()\n",
    "model.eval()\n",
    "\n",
    "for i in range(future):\n",
    "    seq = torch.FloatTensor(preds[-win_size:])\n",
    "    with torch.no_grad():\n",
    "        model.hidden = (torch.zeros(1,1,model.hidden_size),\n",
    "                        torch.zeros(1,1,model.hidden_size))\n",
    "        \n",
    "        preds.append(model(seq).item())\n",
    "        \n",
    "        "
   ]
  },
  {
   "cell_type": "code",
   "execution_count": 81,
   "id": "8a56d2c0",
   "metadata": {},
   "outputs": [
    {
     "data": {
      "text/plain": [
       "[0.10087718814611435,\n",
       " -0.041573815047740936,\n",
       " -0.024051934480667114,\n",
       " 0.09032085537910461,\n",
       " 0.028205620124936104,\n",
       " 0.24355202913284302,\n",
       " 0.2207552194595337,\n",
       " 0.3363279700279236,\n",
       " 0.5761734247207642,\n",
       " 0.9494802355766296,\n",
       " 0.9962279796600342,\n",
       " 0.5287824273109436,\n",
       " 0.09337123483419418,\n",
       " -0.10988891869783401,\n",
       " -0.034487590193748474]"
      ]
     },
     "execution_count": 81,
     "metadata": {},
     "output_type": "execute_result"
    }
   ],
   "source": [
    "preds[-future:]"
   ]
  },
  {
   "cell_type": "code",
   "execution_count": 82,
   "id": "3fb119fa",
   "metadata": {},
   "outputs": [
    {
     "data": {
      "text/plain": [
       "array([[505.11403446],\n",
       "       [486.59540404],\n",
       "       [488.87324852],\n",
       "       [503.7417112 ],\n",
       "       [495.66673062],\n",
       "       [523.66176379],\n",
       "       [520.69817853],\n",
       "       [535.7226361 ],\n",
       "       [566.90254521],\n",
       "       [615.43243062],\n",
       "       [621.50963736],\n",
       "       [560.74171555],\n",
       "       [504.13826053],\n",
       "       [477.71444057],\n",
       "       [487.51661327]])"
      ]
     },
     "execution_count": 82,
     "metadata": {},
     "output_type": "execute_result"
    }
   ],
   "source": [
    "true_predictions = sc.inverse_transform(np.array(preds[win_size:]).reshape(-1, 1))\n",
    "true_predictions"
   ]
  },
  {
   "cell_type": "code",
   "execution_count": 85,
   "id": "03acfa0b",
   "metadata": {},
   "outputs": [
    {
     "data": {
      "text/plain": [
       "<matplotlib.legend.Legend at 0x20ced80ee10>"
      ]
     },
     "execution_count": 85,
     "metadata": {},
     "output_type": "execute_result"
    },
    {
     "data": {
      "image/png": "[encoded data removed]",
      "text/plain": [
       "<Figure size 432x288 with 1 Axes>"
      ]
     },
     "metadata": {
      "needs_background": "light"
     },
     "output_type": "display_data"
    }
   ],
   "source": [
    "plt.plot(lst,df.passengers)\n",
    "plt.plot(lst[-test_size:],true_predictions)\n",
    "plt.legend(['Train','Test'])"
   ]
  },
  {
   "cell_type": "code",
   "execution_count": 87,
   "id": "0bcd4769",
   "metadata": {},
   "outputs": [
    {
     "data": {
      "text/plain": [
       "<matplotlib.legend.Legend at 0x20ced7ee630>"
      ]
     },
     "execution_count": 87,
     "metadata": {},
     "output_type": "execute_result"
    },
    {
     "data": {
      "image/png": "[encoded data removed]",
      "text/plain": [
       "<Figure size 432x288 with 1 Axes>"
      ]
     },
     "metadata": {
      "needs_background": "light"
     },
     "output_type": "display_data"
    }
   ],
   "source": [
    "plt.plot(test_data)\n",
    "plt.plot(true_predictions)\n",
    "plt.legend(['Real','Predicted'])"
   ]
  },
  {
   "cell_type": "code",
   "execution_count": 89,
   "id": "f98df060",
   "metadata": {},
   "outputs": [
    {
     "data": {
      "text/plain": [
       "<matplotlib.legend.Legend at 0x20ced657a20>"
      ]
     },
     "execution_count": 89,
     "metadata": {},
     "output_type": "execute_result"
    },
    {
     "data": {
      "image/png": "[encoded data removed]",
      "text/plain": [
       "<Figure size 432x288 with 1 Axes>"
      ]
     },
     "metadata": {
      "needs_background": "light"
     },
     "output_type": "display_data"
    }
   ],
   "source": [
    "plt.plot(lst[:-test_size],train_data)\n",
    "plt.plot(lst[-test_size:],true_predictions)\n",
    "plt.legend(['Train','Test'])"
   ]
  },
  {
   "cell_type": "code",
   "execution_count": null,
   "id": "ba519b0f",
   "metadata": {},
   "outputs": [],
   "source": []
  }
 ],
 "metadata": {
  "kernelspec": {
   "display_name": "Python 3",
   "language": "python",
   "name": "python3"
  },
  "language_info": {
   "codemirror_mode": {
    "name": "ipython",
    "version": 3
   },
   "file_extension": ".py",
   "mimetype": "text/x-python",
   "name": "python",
   "nbconvert_exporter": "python",
   "pygments_lexer": "ipython3",
   "version": "3.7.3"
  }
 },
 "nbformat": 4,
 "nbformat_minor": 5
}
